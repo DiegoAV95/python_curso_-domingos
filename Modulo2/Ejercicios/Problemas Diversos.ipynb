{
 "cells": [
  {
   "cell_type": "markdown",
   "metadata": {},
   "source": [
    "# PROBLEMAS DIVERSOS"
   ]
  },
  {
   "cell_type": "markdown",
   "metadata": {},
   "source": [
    "<h3>1.</h3>\n",
    "Realizar una función que permita la carga de n alumnos. Por cada alumno se deberá preguntar el nombre completo y permitir el ingreso de 3 notas. Las notas deben estar comprendidas entre 0 y 10. Devolver el listado de alumnos."
   ]
  },
  {
   "cell_type": "code",
   "execution_count": 2,
   "metadata": {},
   "outputs": [
    {
     "name": "stdin",
     "output_type": "stream",
     "text": [
      "Cuantos alumnos desea ingresas?  3\n"
     ]
    },
    {
     "data": {
      "text/plain": [
       "3"
      ]
     },
     "execution_count": 2,
     "metadata": {},
     "output_type": "execute_result"
    }
   ],
   "source": [
    "cantidad = int(input('Cuantos alumnos desea ingresas? '))\n",
    "cantidad"
   ]
  },
  {
   "cell_type": "code",
   "execution_count": 8,
   "metadata": {},
   "outputs": [
    {
     "name": "stdin",
     "output_type": "stream",
     "text": [
      "Ingrese el nombre del alumno 1:  gonzalo\n",
      "Ingrese la nota 1 del alumno:  7\n",
      "Ingrese la nota 2 del alumno:  5\n",
      "Ingrese la nota 3 del alumno:  3\n",
      "Ingrese el nombre del alumno 2:  martina\n",
      "Ingrese la nota 1 del alumno:  10\n",
      "Ingrese la nota 2 del alumno:  2\n",
      "Ingrese la nota 3 del alumno:  6\n",
      "Ingrese el nombre del alumno 3:  Isabel\n",
      "Ingrese la nota 1 del alumno:  4\n",
      "Ingrese la nota 2 del alumno:  6\n",
      "Ingrese la nota 3 del alumno:  7\n"
     ]
    }
   ],
   "source": [
    "lista_alumnos = []\n",
    "for i in range(3):\n",
    "    alumno = {}\n",
    "    \n",
    "    # ingreso nombre\n",
    "    nombre = input(f'Ingrese el nombre del alumno {i+1}: ')\n",
    "    alumno['nombre']= nombre\n",
    "    \n",
    "    #ingreso de notas\n",
    "    alumno['notas'] = []\n",
    "    \n",
    "    for n in range(3):\n",
    "        nota = float(input(f'Ingrese la nota {n+1} del alumno: '))\n",
    "        alumno['notas'].append(nota)\n",
    "    \n",
    "    #agrupando datos en lista\n",
    "    lista_alumnos.append(alumno)\n",
    "    "
   ]
  },
  {
   "cell_type": "code",
   "execution_count": 9,
   "metadata": {},
   "outputs": [
    {
     "data": {
      "text/plain": [
       "[{'nombre': 'gonzalo', 'notas': [7.0, 5.0, 3.0]},\n",
       " {'nombre': 'martina', 'notas': [10.0, 2.0, 6.0]},\n",
       " {'nombre': 'Isabel', 'notas': [4.0, 6.0, 7.0]}]"
      ]
     },
     "execution_count": 9,
     "metadata": {},
     "output_type": "execute_result"
    }
   ],
   "source": [
    "lista_alumnos"
   ]
  },
  {
   "cell_type": "code",
   "execution_count": 10,
   "metadata": {},
   "outputs": [
    {
     "data": {
      "text/plain": [
       "{'nombre': 'Isabel', 'notas': [4.0, 6.0, 7.0]}"
      ]
     },
     "execution_count": 10,
     "metadata": {},
     "output_type": "execute_result"
    }
   ],
   "source": [
    "alumno"
   ]
  },
  {
   "cell_type": "code",
   "execution_count": 14,
   "metadata": {},
   "outputs": [
    {
     "name": "stdout",
     "output_type": "stream",
     "text": [
      "gonzalo 5.0\n",
      "martina 6.0\n",
      "Isabel 5.666666666666667\n"
     ]
    }
   ],
   "source": [
    "for persona in lista_alumnos:\n",
    "    print(persona['nombre'], sum(persona['notas'])/3)"
   ]
  },
  {
   "cell_type": "markdown",
   "metadata": {},
   "source": [
    "***************************************\n",
    "OTRO METODO CON LISTAS"
   ]
  },
  {
   "cell_type": "code",
   "execution_count": 2,
   "metadata": {},
   "outputs": [
    {
     "name": "stdin",
     "output_type": "stream",
     "text": [
      "Ingrese el número de alumnos  5\n"
     ]
    }
   ],
   "source": [
    "alumnos=[]\n",
    "num=int(input(\"Ingrese el número de alumnos \"))"
   ]
  },
  {
   "cell_type": "code",
   "execution_count": null,
   "metadata": {},
   "outputs": [],
   "source": []
  },
  {
   "cell_type": "code",
   "execution_count": 3,
   "metadata": {},
   "outputs": [
    {
     "name": "stdin",
     "output_type": "stream",
     "text": [
      "Ingrese el nombre completo del alumno:  diego\n",
      "Ingrese la nota 1 del alumno  1\n",
      "Ingrese la nota 2 del alumno  2\n",
      "Ingrese la nota 3 del alumno  3\n",
      "Ingrese el nombre completo del alumno:  chamako\n",
      "Ingrese la nota 1 del alumno  2\n",
      "Ingrese la nota 2 del alumno  3\n",
      "Ingrese la nota 3 del alumno  4\n",
      "Ingrese el nombre completo del alumno:  marco\n",
      "Ingrese la nota 1 del alumno  1\n",
      "Ingrese la nota 2 del alumno  2\n",
      "Ingrese la nota 3 del alumno  3\n",
      "Ingrese el nombre completo del alumno:  luis\n",
      "Ingrese la nota 1 del alumno  4\n",
      "Ingrese la nota 2 del alumno  5\n",
      "Ingrese la nota 3 del alumno  6\n",
      "Ingrese el nombre completo del alumno:  carlos\n",
      "Ingrese la nota 1 del alumno  7\n",
      "Ingrese la nota 2 del alumno  8\n",
      "Ingrese la nota 3 del alumno  9\n"
     ]
    }
   ],
   "source": [
    "listado_alumnos=[]\n",
    "for i in range(num):\n",
    "    nomb=input(\"Ingrese el nombre completo del alumno: \")\n",
    "    while True:\n",
    "        try:\n",
    "            nota1=int(input(\"Ingrese la nota 1 del alumno \"))\n",
    "        except ValueError:\n",
    "            print(\"Debes escribir un número.\")\n",
    "            continue\n",
    "        if 0 < nota1 < 11:\n",
    "            break\n",
    "    while True:\n",
    "        try:\n",
    "            nota2=int(input(\"Ingrese la nota 2 del alumno \"))\n",
    "        except ValueError:\n",
    "            print(\"Debes escribir un número.\")\n",
    "            continue\n",
    "        if 0 < nota2 < 11:\n",
    "            break\n",
    "    while True:\n",
    "        try:    \n",
    "            nota3=int(input(\"Ingrese la nota 3 del alumno \"))\n",
    "        except ValueError:\n",
    "            print(\"Debes escribir un número.\")\n",
    "            continue\n",
    "        if 0 < nota3 < 11:\n",
    "            break\n",
    "    alumnos={'nombre':nomb,'notas':[nota1,nota2,nota3]}\n",
    "    listado_alumnos.append(alumnos)"
   ]
  },
  {
   "cell_type": "code",
   "execution_count": null,
   "metadata": {},
   "outputs": [],
   "source": []
  },
  {
   "cell_type": "markdown",
   "metadata": {},
   "source": [
    "### 2.\n",
    "Definir una función que dado un listado de alumnos evalúe cuántos aprobaron y cuántos desaprobaron, teniendo en cuenta que se aprueba con 4. La nota será el promedio de las 3 notas para cada alumno."
   ]
  },
  {
   "cell_type": "code",
   "execution_count": 4,
   "metadata": {},
   "outputs": [
    {
     "name": "stdout",
     "output_type": "stream",
     "text": [
      "diego DESAPROBADO\n",
      "chamako DESAPROBADO\n",
      "marco DESAPROBADO\n",
      "luis APROBADO\n",
      "carlos APROBADO\n",
      "Los alumnos aprobados son 2 alumnos reprobados son 3\n"
     ]
    }
   ],
   "source": [
    "paso = 0\n",
    "npaso = 0\n",
    "\n",
    "for persona in listado_alumnos:    \n",
    "    if sum(persona['notas'])/3 >= 4:\n",
    "        paso += 1\n",
    "        print(persona['nombre'],\"APROBADO\")\n",
    "    else:\n",
    "        npaso += 1\n",
    "        print(persona['nombre'],\"DESAPROBADO\")\n",
    "\n",
    "print(F\"Los alumnos aprobados son {paso} alumnos reprobados son {npaso}\")"
   ]
  },
  {
   "cell_type": "code",
   "execution_count": null,
   "metadata": {},
   "outputs": [],
   "source": []
  },
  {
   "cell_type": "code",
   "execution_count": null,
   "metadata": {},
   "outputs": [],
   "source": []
  },
  {
   "cell_type": "markdown",
   "metadata": {},
   "source": [
    "### 3.\n",
    "Informar el promedio de nota del curso total."
   ]
  },
  {
   "cell_type": "code",
   "execution_count": 5,
   "metadata": {},
   "outputs": [
    {
     "name": "stdout",
     "output_type": "stream",
     "text": [
      "diego 2.0\n",
      "chamako 3.0\n",
      "marco 2.0\n",
      "luis 5.0\n",
      "carlos 8.0\n"
     ]
    }
   ],
   "source": [
    "for persona in listado_alumnos:\n",
    "    print(persona['nombre'], sum(persona['notas'])/3)"
   ]
  },
  {
   "cell_type": "code",
   "execution_count": null,
   "metadata": {},
   "outputs": [],
   "source": []
  },
  {
   "cell_type": "code",
   "execution_count": null,
   "metadata": {},
   "outputs": [],
   "source": []
  },
  {
   "cell_type": "markdown",
   "metadata": {},
   "source": [
    "### 4.\n",
    "Realizar una función que indique quién tuvo el promedio más alto y quién tuvo la nota promedio más baja."
   ]
  },
  {
   "cell_type": "code",
   "execution_count": null,
   "metadata": {},
   "outputs": [],
   "source": []
  },
  {
   "cell_type": "code",
   "execution_count": null,
   "metadata": {},
   "outputs": [],
   "source": []
  },
  {
   "cell_type": "code",
   "execution_count": null,
   "metadata": {},
   "outputs": [],
   "source": []
  },
  {
   "cell_type": "markdown",
   "metadata": {},
   "source": [
    "### 5.\n",
    "Realizar una función que permita buscar un alumno por nombre, siendo el nombre completo o parcial, y devuelva una lista con los n alumnos que concuerden con ese nombre junto con todos sus datos, incluido el promedio de sus notas."
   ]
  },
  {
   "cell_type": "code",
   "execution_count": null,
   "metadata": {},
   "outputs": [],
   "source": []
  },
  {
   "cell_type": "code",
   "execution_count": null,
   "metadata": {},
   "outputs": [],
   "source": []
  },
  {
   "cell_type": "code",
   "execution_count": null,
   "metadata": {},
   "outputs": [],
   "source": []
  },
  {
   "cell_type": "code",
   "execution_count": null,
   "metadata": {},
   "outputs": [],
   "source": []
  },
  {
   "cell_type": "code",
   "execution_count": null,
   "metadata": {},
   "outputs": [],
   "source": []
  },
  {
   "cell_type": "code",
   "execution_count": null,
   "metadata": {},
   "outputs": [],
   "source": [
    "def alumno(n):\n",
    "    notas=[]\n",
    "    nombre=[]\n",
    "    for i in range(n):\n",
    "        name= input(f'Ingrese el nombre del alumno {i+1}: ')\n",
    "        nombre.append(name)\n",
    "        nota_1 = float(input('Ingrese Nota 1: '))\n",
    "        nota_2 = float(input('Ingrese Nota 2: '))\n",
    "        nota_3 = float(input('Ingrese Nota 3: '))\n",
    "        notas.append([nota_1,nota_2,nota_3])\n",
    "    print(\"Alumnos \\t Notas\")\n",
    "    for i in range(n):\n",
    "        print(nombre[i],\"\\t \\t\",notas[i][0],notas[i][1],notas[i][2])\n",
    "n=int(input(\"Ingrese cantidad de alumnos: \"))\n",
    "alumno(n)\n"
   ]
  }
 ],
 "metadata": {
  "kernelspec": {
   "display_name": "Python 3",
   "language": "python",
   "name": "python3"
  },
  "language_info": {
   "codemirror_mode": {
    "name": "ipython",
    "version": 3
   },
   "file_extension": ".py",
   "mimetype": "text/x-python",
   "name": "python",
   "nbconvert_exporter": "python",
   "pygments_lexer": "ipython3",
   "version": "3.8.5"
  }
 },
 "nbformat": 4,
 "nbformat_minor": 4
}
